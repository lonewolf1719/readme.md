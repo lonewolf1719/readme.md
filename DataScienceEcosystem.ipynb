{
 "cells": [
  {
   "cell_type": "markdown",
   "id": "ead7ac77-fb80-4668-b671-92f4cb19abba",
   "metadata": {},
   "source": [
    "# Data Science Tools and Ecosystem"
   ]
  },
  {
   "cell_type": "markdown",
   "id": "852bf3f6-4fd1-4c3d-bc5f-bc46d0e6729e",
   "metadata": {},
   "source": [
    "## In this Notebook,Data Science Tools and Ecosystem are summarized."
   ]
  },
  {
   "cell_type": "markdown",
   "id": "7e1fc1e0-5697-4682-ad0d-f23086a5a91a",
   "metadata": {},
   "source": [
    "Some of the popular languages that Data Scientists use are:\n",
    "1. Python\n",
    "2. R\n",
    "3. Sql\n"
   ]
  },
  {
   "cell_type": "markdown",
   "id": "bfa52d0f-852f-4bfe-a34b-07aeb7b71d20",
   "metadata": {},
   "source": [
    "Some of the commonly used libraries used by Data Scientists include:\n",
    "1. Pandas\n",
    "2. Numpy\n",
    "3. Matplotlib\n",
    "4. Seaborn\n",
    "5. Scipy\n",
    "6. Scikitlearn\n"
   ]
  },
  {
   "cell_type": "markdown",
   "id": "f264dd44-e1ce-4185-befa-14e13aa978f6",
   "metadata": {},
   "source": [
    "|Data Science Tools|\n",
    "|-------------|\n",
    "|Jupyter Notebook|\n",
    "|Zeppelin Notebook|\n",
    "|R Studio's|"
   ]
  },
  {
   "cell_type": "markdown",
   "id": "fcb1248f-109d-466c-ab97-8eb357a9a04d",
   "metadata": {},
   "source": [
    "### Below are a few examples of evaluating arithmetic expressions in Python."
   ]
  },
  {
   "cell_type": "code",
   "execution_count": 1,
   "id": "fa3e5786-73f9-4354-a0e6-b15c7bb6c79d",
   "metadata": {},
   "outputs": [
    {
     "data": {
      "text/plain": [
       "17.0"
      ]
     },
     "execution_count": 1,
     "metadata": {},
     "output_type": "execute_result"
    }
   ],
   "source": [
    "(3*4)+5.\n",
    "#This a simple arithmetic expression to mutiply then add integers."
   ]
  },
  {
   "cell_type": "code",
   "execution_count": 4,
   "id": "cda78a15-e10c-4e06-be91-4199fa3adb90",
   "metadata": {},
   "outputs": [
    {
     "name": "stdout",
     "output_type": "stream",
     "text": [
      "3 : 20 hours\n"
     ]
    }
   ],
   "source": [
    "total_min=200\n",
    "hour=total_min//60\n",
    "minu=total_min%60\n",
    "print(hour,':',minu,\"hours\")\n",
    "#This will convert 200 minutes to hours by diving by 60."
   ]
  },
  {
   "cell_type": "markdown",
   "id": "a1946f13-ba8e-4997-a6da-0b40a673cfd5",
   "metadata": {},
   "source": [
    "__Objectives:__\n",
    "+ List popular languages for Data Science.\n",
    "+ list of commonly used libraries for Data Science. \n",
    "+ list of Data Science tools.\n",
    "+ A simple arithmetic expression to mutiply then add integers.\n",
    "+ convert 200 minutes to hours by diving by 60.\n",
    "+ objectives."
   ]
  },
  {
   "cell_type": "markdown",
   "id": "7e9d54b7-e679-4c96-bd9f-c4aa87612c70",
   "metadata": {},
   "source": [
    "## Author\n",
    "Sanjay Kumar S"
   ]
  },
  {
   "cell_type": "code",
   "execution_count": null,
   "id": "39573812-05e3-4dea-ae19-be77b06e886c",
   "metadata": {},
   "outputs": [],
   "source": []
  }
 ],
 "metadata": {
  "kernelspec": {
   "display_name": "Python 3 (ipykernel)",
   "language": "python",
   "name": "python3"
  },
  "language_info": {
   "codemirror_mode": {
    "name": "ipython",
    "version": 3
   },
   "file_extension": ".py",
   "mimetype": "text/x-python",
   "name": "python",
   "nbconvert_exporter": "python",
   "pygments_lexer": "ipython3",
   "version": "3.11.7"
  }
 },
 "nbformat": 4,
 "nbformat_minor": 5
}
